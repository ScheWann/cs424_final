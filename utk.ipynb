{
 "cells": [
  {
   "cell_type": "code",
   "execution_count": 7,
   "metadata": {},
   "outputs": [
    {
     "name": "stderr",
     "output_type": "stream",
     "text": [
      "/Users/siyuanzhao/anaconda3/envs/cs424/lib/python3.11/site-packages/geopandas/_compat.py:124: UserWarning: The Shapely GEOS version (3.10.3-CAPI-1.16.1) is incompatible with the GEOS version PyGEOS was compiled with (3.10.4-CAPI-1.16.2). Conversions between both will be slow.\n",
      "  warnings.warn(\n"
     ]
    }
   ],
   "source": [
    "import utk"
   ]
  },
  {
   "cell_type": "code",
   "execution_count": 9,
   "metadata": {},
   "outputs": [
    {
     "ename": "AttributeError",
     "evalue": "'Mesh' object has no attribute 'normals'",
     "output_type": "error",
     "traceback": [
      "\u001b[0;31m---------------------------------------------------------------------------\u001b[0m",
      "\u001b[0;31mAttributeError\u001b[0m                            Traceback (most recent call last)",
      "\u001b[1;32m/Users/siyuanzhao/Documents/GitHub/assignment-4-chicago-bears/utk.ipynb Cell 2\u001b[0m line \u001b[0;36m1\n\u001b[0;32m----> <a href='vscode-notebook-cell:/Users/siyuanzhao/Documents/GitHub/assignment-4-chicago-bears/utk.ipynb#W1sZmlsZQ%3D%3D?line=0'>1</a>\u001b[0m uc \u001b[39m=\u001b[39m utk\u001b[39m.\u001b[39;49mOSM\u001b[39m.\u001b[39;49mload([\u001b[39m40.699768\u001b[39;49m, \u001b[39m-\u001b[39;49m\u001b[39m74.019904\u001b[39;49m, \u001b[39m40.71135\u001b[39;49m, \u001b[39m-\u001b[39;49m\u001b[39m74.004712\u001b[39;49m], layers\u001b[39m=\u001b[39;49m[\u001b[39m'\u001b[39;49m\u001b[39mwater\u001b[39;49m\u001b[39m'\u001b[39;49m, \u001b[39m'\u001b[39;49m\u001b[39msurface\u001b[39;49m\u001b[39m'\u001b[39;49m, \u001b[39m'\u001b[39;49m\u001b[39mparks\u001b[39;49m\u001b[39m'\u001b[39;49m, \u001b[39m'\u001b[39;49m\u001b[39mroads\u001b[39;49m\u001b[39m'\u001b[39;49m, \u001b[39m'\u001b[39;49m\u001b[39mbuildings\u001b[39;49m\u001b[39m'\u001b[39;49m])\n\u001b[1;32m      <a href='vscode-notebook-cell:/Users/siyuanzhao/Documents/GitHub/assignment-4-chicago-bears/utk.ipynb#W1sZmlsZQ%3D%3D?line=1'>2</a>\u001b[0m uc\u001b[39m.\u001b[39msave(\u001b[39m'\u001b[39m\u001b[39m./my_first_vis\u001b[39m\u001b[39m'\u001b[39m, includeGrammar\u001b[39m=\u001b[39m\u001b[39mFalse\u001b[39;00m)\n",
      "File \u001b[0;32m~/anaconda3/envs/cs424/lib/python3.11/site-packages/utk/osm.py:197\u001b[0m, in \u001b[0;36mOSM.load\u001b[0;34m(region, layers, pbf_filepath)\u001b[0m\n\u001b[1;32m    195\u001b[0m     \u001b[39mreturn\u001b[39;00m OSM\u001b[39m.\u001b[39mload_from_address(region, layers, pbf_filepath)\n\u001b[1;32m    196\u001b[0m \u001b[39melif\u001b[39;00m(\u001b[39mlen\u001b[39m(region) \u001b[39m==\u001b[39m \u001b[39m4\u001b[39m \u001b[39mand\u001b[39;00m (\u001b[39misinstance\u001b[39m(region[\u001b[39m0\u001b[39m], \u001b[39mfloat\u001b[39m) \u001b[39mor\u001b[39;00m \u001b[39misinstance\u001b[39m(region[\u001b[39m0\u001b[39m], \u001b[39mint\u001b[39m))): \u001b[39m# bounding box\u001b[39;00m\n\u001b[0;32m--> 197\u001b[0m     \u001b[39mreturn\u001b[39;00m OSM\u001b[39m.\u001b[39;49mload_from_bbox(region, layers, pbf_filepath)\n\u001b[1;32m    198\u001b[0m \u001b[39melif\u001b[39;00m(\u001b[39mlen\u001b[39m(region[\u001b[39m0\u001b[39m]) \u001b[39m==\u001b[39m \u001b[39m2\u001b[39m): \u001b[39m# polygon\u001b[39;00m\n\u001b[1;32m    199\u001b[0m     \u001b[39mreturn\u001b[39;00m OSM\u001b[39m.\u001b[39mload_from_polygon(region, layers)\n",
      "File \u001b[0;32m~/anaconda3/envs/cs424/lib/python3.11/site-packages/utk/osm.py:241\u001b[0m, in \u001b[0;36mOSM.load_from_bbox\u001b[0;34m(bbox, layers, pbf_filepath)\u001b[0m\n\u001b[1;32m    239\u001b[0m     loaded \u001b[39m=\u001b[39m OSM\u001b[39m.\u001b[39mget_osm(bbox, \u001b[39mTrue\u001b[39;00m, layers, output_file)\n\u001b[1;32m    240\u001b[0m \u001b[39melse\u001b[39;00m:\n\u001b[0;32m--> 241\u001b[0m     loaded \u001b[39m=\u001b[39m OSM\u001b[39m.\u001b[39;49mget_osm(bbox, \u001b[39mTrue\u001b[39;49;00m, layers)\n\u001b[1;32m    243\u001b[0m component \u001b[39m=\u001b[39m UrbanComponent(layers \u001b[39m=\u001b[39m loaded, bpolygon \u001b[39m=\u001b[39m bbox, camera \u001b[39m=\u001b[39m cam)\n\u001b[1;32m    245\u001b[0m \u001b[39mreturn\u001b[39;00m component\n",
      "File \u001b[0;32m~/anaconda3/envs/cs424/lib/python3.11/site-packages/utk/osm.py:373\u001b[0m, in \u001b[0;36mOSM.get_osm\u001b[0;34m(bpolygon, bbox, layers, pbf_filepath)\u001b[0m\n\u001b[1;32m    370\u001b[0m \u001b[39mif\u001b[39;00m \u001b[39m'\u001b[39m\u001b[39msizeCells\u001b[39m\u001b[39m'\u001b[39m \u001b[39min\u001b[39;00m args:\n\u001b[1;32m    371\u001b[0m     sizeCells \u001b[39m=\u001b[39m args[\u001b[39m'\u001b[39m\u001b[39msizeCells\u001b[39m\u001b[39m'\u001b[39m]\n\u001b[0;32m--> 373\u001b[0m layer_geometry \u001b[39m=\u001b[39m OSM\u001b[39m.\u001b[39;49mcreate_surface_mesh(bpoly, bbox, nCells, sizeCells)\n\u001b[1;32m    374\u001b[0m geometry \u001b[39m=\u001b[39m layer_geometry[\u001b[39m'\u001b[39m\u001b[39mdata\u001b[39m\u001b[39m'\u001b[39m]\n\u001b[1;32m    375\u001b[0m result_gdf_objects\u001b[39m.\u001b[39mappend(layer_geometry[\u001b[39m'\u001b[39m\u001b[39mgdf\u001b[39m\u001b[39m'\u001b[39m][\u001b[39m'\u001b[39m\u001b[39mobjects\u001b[39m\u001b[39m'\u001b[39m])\n",
      "File \u001b[0;32m~/anaconda3/envs/cs424/lib/python3.11/site-packages/utk/osm.py:1476\u001b[0m, in \u001b[0;36mOSM.create_surface_mesh\u001b[0;34m(bpoly, bbox, nCells, sizeCells)\u001b[0m\n\u001b[1;32m   1473\u001b[0m \u001b[39mif\u001b[39;00m(finalSize \u001b[39m==\u001b[39m \u001b[39m-\u001b[39m\u001b[39m1\u001b[39m \u001b[39mand\u001b[39;00m nCells \u001b[39m!=\u001b[39m \u001b[39m-\u001b[39m\u001b[39m1\u001b[39m):\n\u001b[1;32m   1474\u001b[0m     finalSize \u001b[39m=\u001b[39m \u001b[39mmax\u001b[39m(\u001b[39mabs\u001b[39m(bbox[\u001b[39m2\u001b[39m] \u001b[39m-\u001b[39m bbox[\u001b[39m0\u001b[39m])\u001b[39m/\u001b[39mnCells, \u001b[39mabs\u001b[39m(bbox[\u001b[39m3\u001b[39m] \u001b[39m-\u001b[39m bbox[\u001b[39m1\u001b[39m])\u001b[39m/\u001b[39mnCells)\n\u001b[0;32m-> 1476\u001b[0m coordinates, indices, ids, normals \u001b[39m=\u001b[39m OSM\u001b[39m.\u001b[39;49mdiscretize_surface_mesh(grouped_coordinates, finalSize)\n\u001b[1;32m   1478\u001b[0m geometries_coordinates \u001b[39m=\u001b[39m []\n\u001b[1;32m   1479\u001b[0m ids_coordinates \u001b[39m=\u001b[39m []\n",
      "File \u001b[0;32m~/anaconda3/envs/cs424/lib/python3.11/site-packages/utk/osm.py:1431\u001b[0m, in \u001b[0;36mOSM.discretize_surface_mesh\u001b[0;34m(coords, size)\u001b[0m\n\u001b[1;32m   1428\u001b[0m coordinates, indices, ids, _ \u001b[39m=\u001b[39m Buildings\u001b[39m.\u001b[39mget_roof(poly, \u001b[39mNone\u001b[39;00m, \u001b[39m0\u001b[39m, size)\n\u001b[1;32m   1430\u001b[0m vmesh \u001b[39m=\u001b[39m vedo\u001b[39m.\u001b[39mMesh([coordinates, indices])\n\u001b[0;32m-> 1431\u001b[0m normals \u001b[39m=\u001b[39m vmesh\u001b[39m.\u001b[39;49mnormals(cells\u001b[39m=\u001b[39m\u001b[39mFalse\u001b[39;00m)\n\u001b[1;32m   1433\u001b[0m \u001b[39mreturn\u001b[39;00m coordinates, indices, ids, normals\n",
      "\u001b[0;31mAttributeError\u001b[0m: 'Mesh' object has no attribute 'normals'"
     ]
    }
   ],
   "source": [
    "uc = utk.OSM.load([40.699768, -74.019904, 40.71135, -74.004712], layers=['water', 'surface', 'parks', 'roads', 'buildings'])\n",
    "uc.save('./my_first_vis', includeGrammar=False)"
   ]
  }
 ],
 "metadata": {
  "kernelspec": {
   "display_name": "cs424",
   "language": "python",
   "name": "python3"
  },
  "language_info": {
   "codemirror_mode": {
    "name": "ipython",
    "version": 3
   },
   "file_extension": ".py",
   "mimetype": "text/x-python",
   "name": "python",
   "nbconvert_exporter": "python",
   "pygments_lexer": "ipython3",
   "version": "3.11.5"
  }
 },
 "nbformat": 4,
 "nbformat_minor": 2
}
